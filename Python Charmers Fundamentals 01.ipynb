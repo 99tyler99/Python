{
 "cells": [
  {
   "cell_type": "code",
   "execution_count": 1,
   "id": "e013d224-c118-4514-a8f8-fa3ad238bec5",
   "metadata": {},
   "outputs": [],
   "source": [
    "import pandas as pd"
   ]
  },
  {
   "cell_type": "code",
   "execution_count": 10,
   "id": "bcef26b3-2059-4864-ae98-c373e443b1d0",
   "metadata": {},
   "outputs": [
    {
     "name": "stdout",
     "output_type": "stream",
     "text": [
      "2001\n"
     ]
    }
   ],
   "source": [
    "tyler = (6,6,2001)\n",
    "tyler_birthyear = tyler[2]\n",
    "print(tyler_birthyear)"
   ]
  },
  {
   "cell_type": "code",
   "execution_count": 23,
   "id": "100262d0-db60-4442-833c-3e6511fdaaeb",
   "metadata": {},
   "outputs": [
    {
     "name": "stdout",
     "output_type": "stream",
     "text": [
      "The sum of 8 and 4 is 12.\n",
      "The product of 8 and 4 is 32.\n"
     ]
    }
   ],
   "source": [
    "# Exercise 1: Completing a Simple Calculator\n",
    "# Objective: Finish a partially built calculator to understand variable assignments and basic arithmetic operations.\n",
    "\n",
    "# Starting Code:\n",
    "# Given values\n",
    "number1 = 8\n",
    "number2 = 4\n",
    "\n",
    "# Sum - Complete the operation\n",
    "sum_result = 8+4  # Replace None with the correct operation\n",
    "\n",
    "# Product - Complete the operation\n",
    "product_result = 8*4  # Replace None with the correct operation\n",
    "\n",
    "# Print results (do not modify)\n",
    "print(f\"The sum of {number1} and {number2} is {sum_result}.\")\n",
    "print(f\"The product of {number1} and {number2} is {product_result}.\")"
   ]
  },
  {
   "cell_type": "code",
   "execution_count": 29,
   "id": "225e16d2-05f2-44e9-86f6-6b6b4b9499e2",
   "metadata": {},
   "outputs": [
    {
     "name": "stdout",
     "output_type": "stream",
     "text": [
      "['pizza', 'sushi', 'tacos', 'pasta', 'salad']\n",
      "tacos\n",
      "My favorite food is sushi\n"
     ]
    }
   ],
   "source": [
    "# Exercise 2: Favorite Foods List Manipulation\n",
    "# Objective: Complete a script to manipulate a list of favorite foods and use string concatenation.\n",
    "\n",
    "# Starting Code:\n",
    "# Favorite foods list (do not modify)\n",
    "favorite_foods = [\"pizza\", \"sushi\", \"tacos\", \"pasta\", \"salad\"]\n",
    "\n",
    "# Print the entire list (Complete the code)\n",
    "# TODO: Print the list here\n",
    "print(favorite_foods)\n",
    "\n",
    "# Print the third item in the list (Complete the code)\n",
    "# TODO: Print the third item here\n",
    "print(favorite_foods[2])\n",
    "\n",
    "# Favorite food sentence (Complete the code)\n",
    "favorite_sentence = \"My favorite food is \" + favorite_foods[1]  # Add the favorite food from the list\n",
    "print(favorite_sentence)"
   ]
  },
  {
   "cell_type": "code",
   "execution_count": 47,
   "id": "1c99895b-24a4-45ee-b57e-dd579392cc0b",
   "metadata": {},
   "outputs": [
    {
     "name": "stdout",
     "output_type": "stream",
     "text": [
      "Average: 27.75\n",
      "Maximum: 45\n",
      "Minimum: 12\n"
     ]
    }
   ],
   "source": [
    "# Exercise 3: Simple aggregations\n",
    "# Objective: Complete the analysis of a dataset to find average, maximum, and minimum values.\n",
    "\n",
    "# Starting Code:\n",
    "# Given dataset (do not modify)\n",
    "data = [23, 17, 34, 29, 12, 38, 45, 24]\n",
    "\n",
    "# Average calculation (Complete the code)\n",
    "average = sum(data)/len(data) # Replace None with the calculation\n",
    "\n",
    "# Find max and min (Complete the code)\n",
    "max_value = max(data)  # Replace None with the calculation\n",
    "min_value = min(data)  # Replace None with the calculation\n",
    "\n",
    "# Print results (do not modify)\n",
    "print(f\"Average: {average}\")\n",
    "print(f\"Maximum: {max_value}\")\n",
    "print(f\"Minimum: {min_value}\")"
   ]
  },
  {
   "cell_type": "code",
   "execution_count": null,
   "id": "296283f4-9c4d-4faa-a061-b8c99d3369f5",
   "metadata": {},
   "outputs": [],
   "source": []
  }
 ],
 "metadata": {
  "kernelspec": {
   "display_name": "Python [conda env:base] *",
   "language": "python",
   "name": "conda-base-py"
  },
  "language_info": {
   "codemirror_mode": {
    "name": "ipython",
    "version": 3
   },
   "file_extension": ".py",
   "mimetype": "text/x-python",
   "name": "python",
   "nbconvert_exporter": "python",
   "pygments_lexer": "ipython3",
   "version": "3.12.7"
  }
 },
 "nbformat": 4,
 "nbformat_minor": 5
}
