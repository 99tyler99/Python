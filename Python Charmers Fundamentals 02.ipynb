{
 "cells": [
  {
   "cell_type": "code",
   "execution_count": 15,
   "id": "c4956a72-9022-465d-b502-0f9cf551d5ab",
   "metadata": {},
   "outputs": [
    {
     "name": "stdout",
     "output_type": "stream",
     "text": [
      "   vendorid     tpep_pickup_datetime    tpep_dropoff_datetime  \\\n",
      "0         2  2019-10-23T16:39:42.000  2019-10-23T17:14:10.000   \n",
      "1         1  2019-10-23T16:32:08.000  2019-10-23T16:45:26.000   \n",
      "2         2  2019-10-23T16:08:44.000  2019-10-23T16:21:11.000   \n",
      "3         2  2019-10-23T16:22:44.000  2019-10-23T16:43:26.000   \n",
      "4         2  2019-10-23T16:45:11.000  2019-10-23T16:58:49.000   \n",
      "\n",
      "   passenger_count  trip_distance  ratecodeid store_and_fwd_flag  \\\n",
      "0                1           7.93           1                  N   \n",
      "1                1           2.00           1                  N   \n",
      "2                1           1.36           1                  N   \n",
      "3                1           1.00           1                  N   \n",
      "4                1           1.96           1                  N   \n",
      "\n",
      "   pulocationid  dolocationid  payment_type  fare_amount  extra  mta_tax  \\\n",
      "0           138           170             1         29.5    1.0      0.5   \n",
      "1            11            26             1         10.5    1.0      0.5   \n",
      "2           163           162             1          9.5    1.0      0.5   \n",
      "3           170           163             1         13.0    1.0      0.5   \n",
      "4           163           236             1         10.5    1.0      0.5   \n",
      "\n",
      "   tip_amount  tolls_amount  improvement_surcharge  total_amount  \\\n",
      "0        7.98          6.12                    0.3         47.90   \n",
      "1        0.00          0.00                    0.3         12.30   \n",
      "2        2.00          0.00                    0.3         15.80   \n",
      "3        4.32          0.00                    0.3         21.62   \n",
      "4        0.50          0.00                    0.3         15.30   \n",
      "\n",
      "   congestion_surcharge  \n",
      "0                   2.5  \n",
      "1                   0.0  \n",
      "2                   2.5  \n",
      "3                   2.5  \n",
      "4                   2.5  \n"
     ]
    }
   ],
   "source": [
    "import pandas as pd\n",
    "data = pd.read_csv(r\"C:\\Users\\TylerHa\\Python\\Data\\2019_Yellow_Taxi_Trip_Data.csv\")\n",
    "print(data.head())"
   ]
  },
  {
   "cell_type": "code",
   "execution_count": 17,
   "id": "d6df2ff3-a995-4352-9b38-e8dd04675e1e",
   "metadata": {},
   "outputs": [
    {
     "name": "stdout",
     "output_type": "stream",
     "text": [
      "Requirement already satisfied: numpy in c:\\users\\tylerha\\anaconda3\\lib\\site-packages (1.26.4)\n"
     ]
    }
   ],
   "source": [
    "import sys\n",
    "!{sys.executable} -m pip install numpy"
   ]
  },
  {
   "cell_type": "code",
   "execution_count": 19,
   "id": "076c4421-bf55-4d54-b04e-8d414e627e27",
   "metadata": {},
   "outputs": [
    {
     "name": "stdout",
     "output_type": "stream",
     "text": [
      "1.26.4\n"
     ]
    }
   ],
   "source": [
    "import numpy\n",
    "print(numpy.__version__)"
   ]
  },
  {
   "cell_type": "code",
   "execution_count": 29,
   "id": "c565e859-c39c-4830-95b7-dd73b9736243",
   "metadata": {},
   "outputs": [],
   "source": [
    "import importlib.metadata"
   ]
  },
  {
   "cell_type": "code",
   "execution_count": 31,
   "id": "135a0d9a-a2eb-4459-a9ca-734b4095fef5",
   "metadata": {},
   "outputs": [
    {
     "name": "stdout",
     "output_type": "stream",
     "text": [
      "<module 'importlib.metadata' from 'C:\\\\Users\\\\TylerHa\\\\anaconda3\\\\Lib\\\\importlib\\\\metadata\\\\__init__.py'>\n"
     ]
    }
   ],
   "source": [
    "print(importlib.metadata)"
   ]
  },
  {
   "cell_type": "code",
   "execution_count": 77,
   "id": "f294f64c-4a86-4213-9f0b-845cc5068b3f",
   "metadata": {},
   "outputs": [
    {
     "name": "stdout",
     "output_type": "stream",
     "text": [
      "['numpy>=1.22.4; python_version < \"3.11\"', 'numpy>=1.23.2; python_version == \"3.11\"', 'numpy>=1.26.0; python_version >= \"3.12\"', 'python-dateutil>=2.8.2', 'pytz>=2020.1', 'tzdata>=2022.7', 'hypothesis>=6.46.1; extra == \"test\"', 'pytest>=7.3.2; extra == \"test\"', 'pytest-xdist>=2.2.0; extra == \"test\"', 'pyarrow>=10.0.1; extra == \"pyarrow\"', 'bottleneck>=1.3.6; extra == \"performance\"', 'numba>=0.56.4; extra == \"performance\"', 'numexpr>=2.8.4; extra == \"performance\"', 'scipy>=1.10.0; extra == \"computation\"', 'xarray>=2022.12.0; extra == \"computation\"', 'fsspec>=2022.11.0; extra == \"fss\"', 's3fs>=2022.11.0; extra == \"aws\"', 'gcsfs>=2022.11.0; extra == \"gcp\"', 'pandas-gbq>=0.19.0; extra == \"gcp\"', 'odfpy>=1.4.1; extra == \"excel\"', 'openpyxl>=3.1.0; extra == \"excel\"', 'python-calamine>=0.1.7; extra == \"excel\"', 'pyxlsb>=1.0.10; extra == \"excel\"', 'xlrd>=2.0.1; extra == \"excel\"', 'xlsxwriter>=3.0.5; extra == \"excel\"', 'pyarrow>=10.0.1; extra == \"parquet\"', 'pyarrow>=10.0.1; extra == \"feather\"', 'tables>=3.8.0; extra == \"hdf5\"', 'pyreadstat>=1.2.0; extra == \"spss\"', 'SQLAlchemy>=2.0.0; extra == \"postgresql\"', 'psycopg2>=2.9.6; extra == \"postgresql\"', 'adbc-driver-postgresql>=0.8.0; extra == \"postgresql\"', 'SQLAlchemy>=2.0.0; extra == \"mysql\"', 'pymysql>=1.0.2; extra == \"mysql\"', 'SQLAlchemy>=2.0.0; extra == \"sql-other\"', 'adbc-driver-postgresql>=0.8.0; extra == \"sql-other\"', 'adbc-driver-sqlite>=0.8.0; extra == \"sql-other\"', 'beautifulsoup4>=4.11.2; extra == \"html\"', 'html5lib>=1.1; extra == \"html\"', 'lxml>=4.9.2; extra == \"html\"', 'lxml>=4.9.2; extra == \"xml\"', 'matplotlib>=3.6.3; extra == \"plot\"', 'jinja2>=3.1.2; extra == \"output-formatting\"', 'tabulate>=0.9.0; extra == \"output-formatting\"', 'PyQt5>=5.15.9; extra == \"clipboard\"', 'qtpy>=2.3.0; extra == \"clipboard\"', 'zstandard>=0.19.0; extra == \"compression\"', 'dataframe-api-compat>=0.1.7; extra == \"consortium-standard\"', 'adbc-driver-postgresql>=0.8.0; extra == \"all\"', 'adbc-driver-sqlite>=0.8.0; extra == \"all\"', 'beautifulsoup4>=4.11.2; extra == \"all\"', 'bottleneck>=1.3.6; extra == \"all\"', 'dataframe-api-compat>=0.1.7; extra == \"all\"', 'fastparquet>=2022.12.0; extra == \"all\"', 'fsspec>=2022.11.0; extra == \"all\"', 'gcsfs>=2022.11.0; extra == \"all\"', 'html5lib>=1.1; extra == \"all\"', 'hypothesis>=6.46.1; extra == \"all\"', 'jinja2>=3.1.2; extra == \"all\"', 'lxml>=4.9.2; extra == \"all\"', 'matplotlib>=3.6.3; extra == \"all\"', 'numba>=0.56.4; extra == \"all\"', 'numexpr>=2.8.4; extra == \"all\"', 'odfpy>=1.4.1; extra == \"all\"', 'openpyxl>=3.1.0; extra == \"all\"', 'pandas-gbq>=0.19.0; extra == \"all\"', 'psycopg2>=2.9.6; extra == \"all\"', 'pyarrow>=10.0.1; extra == \"all\"', 'pymysql>=1.0.2; extra == \"all\"', 'PyQt5>=5.15.9; extra == \"all\"', 'pyreadstat>=1.2.0; extra == \"all\"', 'pytest>=7.3.2; extra == \"all\"', 'pytest-xdist>=2.2.0; extra == \"all\"', 'python-calamine>=0.1.7; extra == \"all\"', 'pyxlsb>=1.0.10; extra == \"all\"', 'qtpy>=2.3.0; extra == \"all\"', 'scipy>=1.10.0; extra == \"all\"', 's3fs>=2022.11.0; extra == \"all\"', 'SQLAlchemy>=2.0.0; extra == \"all\"', 'tables>=3.8.0; extra == \"all\"', 'tabulate>=0.9.0; extra == \"all\"', 'xarray>=2022.12.0; extra == \"all\"', 'xlrd>=2.0.1; extra == \"all\"', 'xlsxwriter>=3.0.5; extra == \"all\"', 'zstandard>=0.19.0; extra == \"all\"']\n"
     ]
    }
   ],
   "source": [
    "from importlib.metadata import requires\n",
    "pandasreq = requires('pandas')\n",
    "print(pandasreq)"
   ]
  },
  {
   "cell_type": "code",
   "execution_count": 93,
   "id": "0162665b-8807-4e9f-ae4b-256782896d3c",
   "metadata": {},
   "outputs": [
    {
     "name": "stdout",
     "output_type": "stream",
     "text": [
      "None\n"
     ]
    }
   ],
   "source": [
    "from importlib.metadata import requires\n",
    "numpyreq = requires('numpy')\n",
    "print(numpyreq)"
   ]
  },
  {
   "cell_type": "code",
   "execution_count": 101,
   "id": "e75efcc1-06db-4400-8847-7d8c2bfeda95",
   "metadata": {},
   "outputs": [
    {
     "name": "stdout",
     "output_type": "stream",
     "text": [
      "(None, ['numpy>=1.22.4; python_version < \"3.11\"', 'numpy>=1.23.2; python_version == \"3.11\"', 'numpy>=1.26.0; python_version >= \"3.12\"', 'python-dateutil>=2.8.2', 'pytz>=2020.1', 'tzdata>=2022.7', 'hypothesis>=6.46.1; extra == \"test\"', 'pytest>=7.3.2; extra == \"test\"', 'pytest-xdist>=2.2.0; extra == \"test\"', 'pyarrow>=10.0.1; extra == \"pyarrow\"', 'bottleneck>=1.3.6; extra == \"performance\"', 'numba>=0.56.4; extra == \"performance\"', 'numexpr>=2.8.4; extra == \"performance\"', 'scipy>=1.10.0; extra == \"computation\"', 'xarray>=2022.12.0; extra == \"computation\"', 'fsspec>=2022.11.0; extra == \"fss\"', 's3fs>=2022.11.0; extra == \"aws\"', 'gcsfs>=2022.11.0; extra == \"gcp\"', 'pandas-gbq>=0.19.0; extra == \"gcp\"', 'odfpy>=1.4.1; extra == \"excel\"', 'openpyxl>=3.1.0; extra == \"excel\"', 'python-calamine>=0.1.7; extra == \"excel\"', 'pyxlsb>=1.0.10; extra == \"excel\"', 'xlrd>=2.0.1; extra == \"excel\"', 'xlsxwriter>=3.0.5; extra == \"excel\"', 'pyarrow>=10.0.1; extra == \"parquet\"', 'pyarrow>=10.0.1; extra == \"feather\"', 'tables>=3.8.0; extra == \"hdf5\"', 'pyreadstat>=1.2.0; extra == \"spss\"', 'SQLAlchemy>=2.0.0; extra == \"postgresql\"', 'psycopg2>=2.9.6; extra == \"postgresql\"', 'adbc-driver-postgresql>=0.8.0; extra == \"postgresql\"', 'SQLAlchemy>=2.0.0; extra == \"mysql\"', 'pymysql>=1.0.2; extra == \"mysql\"', 'SQLAlchemy>=2.0.0; extra == \"sql-other\"', 'adbc-driver-postgresql>=0.8.0; extra == \"sql-other\"', 'adbc-driver-sqlite>=0.8.0; extra == \"sql-other\"', 'beautifulsoup4>=4.11.2; extra == \"html\"', 'html5lib>=1.1; extra == \"html\"', 'lxml>=4.9.2; extra == \"html\"', 'lxml>=4.9.2; extra == \"xml\"', 'matplotlib>=3.6.3; extra == \"plot\"', 'jinja2>=3.1.2; extra == \"output-formatting\"', 'tabulate>=0.9.0; extra == \"output-formatting\"', 'PyQt5>=5.15.9; extra == \"clipboard\"', 'qtpy>=2.3.0; extra == \"clipboard\"', 'zstandard>=0.19.0; extra == \"compression\"', 'dataframe-api-compat>=0.1.7; extra == \"consortium-standard\"', 'adbc-driver-postgresql>=0.8.0; extra == \"all\"', 'adbc-driver-sqlite>=0.8.0; extra == \"all\"', 'beautifulsoup4>=4.11.2; extra == \"all\"', 'bottleneck>=1.3.6; extra == \"all\"', 'dataframe-api-compat>=0.1.7; extra == \"all\"', 'fastparquet>=2022.12.0; extra == \"all\"', 'fsspec>=2022.11.0; extra == \"all\"', 'gcsfs>=2022.11.0; extra == \"all\"', 'html5lib>=1.1; extra == \"all\"', 'hypothesis>=6.46.1; extra == \"all\"', 'jinja2>=3.1.2; extra == \"all\"', 'lxml>=4.9.2; extra == \"all\"', 'matplotlib>=3.6.3; extra == \"all\"', 'numba>=0.56.4; extra == \"all\"', 'numexpr>=2.8.4; extra == \"all\"', 'odfpy>=1.4.1; extra == \"all\"', 'openpyxl>=3.1.0; extra == \"all\"', 'pandas-gbq>=0.19.0; extra == \"all\"', 'psycopg2>=2.9.6; extra == \"all\"', 'pyarrow>=10.0.1; extra == \"all\"', 'pymysql>=1.0.2; extra == \"all\"', 'PyQt5>=5.15.9; extra == \"all\"', 'pyreadstat>=1.2.0; extra == \"all\"', 'pytest>=7.3.2; extra == \"all\"', 'pytest-xdist>=2.2.0; extra == \"all\"', 'python-calamine>=0.1.7; extra == \"all\"', 'pyxlsb>=1.0.10; extra == \"all\"', 'qtpy>=2.3.0; extra == \"all\"', 'scipy>=1.10.0; extra == \"all\"', 's3fs>=2022.11.0; extra == \"all\"', 'SQLAlchemy>=2.0.0; extra == \"all\"', 'tables>=3.8.0; extra == \"all\"', 'tabulate>=0.9.0; extra == \"all\"', 'xarray>=2022.12.0; extra == \"all\"', 'xlrd>=2.0.1; extra == \"all\"', 'xlsxwriter>=3.0.5; extra == \"all\"', 'zstandard>=0.19.0; extra == \"all\"'])\n"
     ]
    }
   ],
   "source": [
    "combinedlist = numpyreq, pandasreq\n",
    "print(combinedlist)"
   ]
  },
  {
   "cell_type": "code",
   "execution_count": 103,
   "id": "773bff37-1eab-49f9-a813-eb1249f2c2ca",
   "metadata": {},
   "outputs": [
    {
     "name": "stdout",
     "output_type": "stream",
     "text": [
      "Requirement already satisfied: numpy in c:\\users\\tylerha\\anaconda3\\lib\\site-packages (1.26.4)\n"
     ]
    }
   ],
   "source": [
    "import sys\n",
    "!{sys.executable} -m pip install numpy"
   ]
  },
  {
   "cell_type": "code",
   "execution_count": 105,
   "id": "f263ddcb-8ae1-4d55-9a83-05166a05f278",
   "metadata": {},
   "outputs": [
    {
     "name": "stdout",
     "output_type": "stream",
     "text": [
      "None\n"
     ]
    }
   ],
   "source": [
    "from importlib.metadata import requires\n",
    "numpyreq = requires('numpy')\n",
    "print(numpyreq)"
   ]
  },
  {
   "cell_type": "code",
   "execution_count": null,
   "id": "72484486-ac77-47ba-8e91-66aaaeecab40",
   "metadata": {},
   "outputs": [],
   "source": []
  }
 ],
 "metadata": {
  "kernelspec": {
   "display_name": "Python [conda env:base] *",
   "language": "python",
   "name": "conda-base-py"
  },
  "language_info": {
   "codemirror_mode": {
    "name": "ipython",
    "version": 3
   },
   "file_extension": ".py",
   "mimetype": "text/x-python",
   "name": "python",
   "nbconvert_exporter": "python",
   "pygments_lexer": "ipython3",
   "version": "3.12.7"
  }
 },
 "nbformat": 4,
 "nbformat_minor": 5
}
